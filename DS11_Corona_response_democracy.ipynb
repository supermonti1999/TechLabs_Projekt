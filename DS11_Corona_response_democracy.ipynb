{
 "cells": [
  {
   "cell_type": "markdown",
   "metadata": {},
   "source": [
    "# Dataset 1: Oxford Response Tracker"
   ]
  },
  {
   "cell_type": "markdown",
   "metadata": {},
   "source": [
    "Datacleaning and processing: Laura, Kim, (Philipp)"
   ]
  },
  {
   "cell_type": "code",
   "execution_count": 265,
   "metadata": {
    "colab": {
     "base_uri": "https://localhost:8080/",
     "height": 71
    },
    "id": "3yrQExKYeAeG",
    "outputId": "5fdbb672-b69b-4ad5-ca51-8d76c5b90987"
   },
   "outputs": [
    {
     "name": "stderr",
     "output_type": "stream",
     "text": [
      "C:\\Users\\Sebas\\anaconda3\\lib\\site-packages\\IPython\\core\\interactiveshell.py:3071: DtypeWarning: Columns (2,3) have mixed types.Specify dtype option on import or set low_memory=False.\n",
      "  has_raised = await self.run_ast_nodes(code_ast.body, cell_name,\n"
     ]
    }
   ],
   "source": [
    "import pandas as pd\n",
    "import numpy as np\n",
    "import matplotlib.pyplot as plt\n",
    "import seaborn as sns\n",
    "from scipy import stats\n",
    "#What: load data from github.\n",
    "#Data source: The Oxford Covid-19 Government Response Tracker (GitHub repo, university website) tracks individual policy measures across 17 indicators. Based on this data they calculate several indices to give an overall impression of government activity as described at https://github.com/OxCGRT/covid-policy-tracker/blob/master/documentation/index_methodology.md#legacy-stringency-index.\n",
    "#Definitions: In the script comments the word \"Indicator\" refers to the low level data collected by the Oxford University research team for each country and day (i.e. \"C1_School closing\" or \"C2_Workplace closing\"). The word \"Index\" refers to a data that has been calculated using the Indicators (i.e. \"StringencyIndex\" or \"GovernmentResponseIndexForDisplay\").\n",
    "url=\"https://raw.githubusercontent.com/OxCGRT/covid-policy-tracker/master/data/OxCGRT_latest.csv\"\n",
    "ox=pd.read_csv(url)\n"
   ]
  },
  {
   "cell_type": "code",
   "execution_count": 266,
   "metadata": {
    "colab": {
     "base_uri": "https://localhost:8080/",
     "height": 221
    },
    "id": "0cv4xhIpVbDu",
    "outputId": "052b69aa-6d22-4165-ec13-57757865cc8a"
   },
   "outputs": [
    {
     "data": {
      "text/plain": [
       "array([nan, 'England', 'Northern Ireland', 'Scotland', 'Wales', 'Alaska',\n",
       "       'Alabama', 'Arkansas', 'Arizona', 'California', 'Colorado',\n",
       "       'Connecticut', 'Washington DC', 'Delaware', 'Florida', 'Georgia',\n",
       "       'Hawaii', 'Iowa', 'Idaho', 'Illinois', 'Indiana', 'Kansas',\n",
       "       'Kentucky', 'Louisiana', 'Massachusetts', 'Maryland', 'Maine',\n",
       "       'Michigan', 'Minnesota', 'Missouri', 'Mississippi', 'Montana',\n",
       "       'North Carolina', 'North Dakota', 'Nebraska', 'New Hampshire',\n",
       "       'New Jersey', 'New Mexico', 'Nevada', 'New York', 'Ohio',\n",
       "       'Oklahoma', 'Oregon', 'Pennsylvania', 'Rhode Island',\n",
       "       'South Carolina', 'South Dakota', 'Tennessee', 'Texas', 'Utah',\n",
       "       'Virginia', 'Virgin Islands', 'Vermont', 'Washington', 'Wisconsin',\n",
       "       'West Virginia', 'Wyoming'], dtype=object)"
      ]
     },
     "execution_count": 266,
     "metadata": {},
     "output_type": "execute_result"
    }
   ],
   "source": [
    "#What: show what kind of data is contained within column RegionName\n",
    "#Why: Want to understand what RegionName is useful for\n",
    "#Conclusion: Dataset includes information on national States within countries (US and UK). \n",
    "ox.RegionName.unique()"
   ]
  },
  {
   "cell_type": "code",
   "execution_count": 267,
   "metadata": {
    "id": "YubU-QbxXvs7"
   },
   "outputs": [],
   "source": [
    "#What: Remove data of national states from data set (keep only data reffering to an entire countries)\n",
    "#Why: Dataset includes information on national States within countries (US and UK) but our analysis will only look at data on country'levels.\n",
    "\n",
    "ox = ox[ox['RegionName'].isna()]"
   ]
  },
  {
   "cell_type": "code",
   "execution_count": 268,
   "metadata": {
    "id": "cAWcgScOYSOf"
   },
   "outputs": [],
   "source": [
    "#What: Drop unecessary columns\n",
    "#Why: RegionName - Defines national States within countries which we are not going to analyse and which we have removed before.\n",
    "#     RegionCode - Defines national States within countries which we are not going to analyse and which we have removed before.\n",
    "#     M1_wildcard - Describes \"Record policy announcements that do not fit anywhere else\" but is always NaN in Dataset\n",
    "#     ...IndexForDisplay - Analog to repective Index, but includes a calculation to fill missing data in the most recent 7 days. As we will only look at data until 22 September, this column is identical with original Index\n",
    "\n",
    "ox=ox.drop(['RegionName','RegionCode','M1_Wildcard', 'StringencyLegacyIndex', 'StringencyIndexForDisplay','StringencyLegacyIndexForDisplay','GovernmentResponseIndexForDisplay', 'ContainmentHealthIndexForDisplay', 'EconomicSupportIndexForDisplay'], axis=1)"
   ]
  },
  {
   "cell_type": "code",
   "execution_count": 269,
   "metadata": {
    "id": "YFEm46eKIg6S"
   },
   "outputs": [],
   "source": [
    "#What: Change index to a combination of CountryCode and Date. For this first convert Date to string and combine it with Country Cody by creating a new Column names CountryCodeDate. After setting the index, the new variable is no longer needed and removed. The set_index command removes CountryCodeDate automatically.\n",
    "#Why: To enable logical slicing along index.\n",
    "\n",
    "ox['CountryCodeDate']=ox.CountryCode +ox.Date.map(str)\n",
    "ox.set_index('CountryCodeDate',inplace=True)\n"
   ]
  },
  {
   "cell_type": "code",
   "execution_count": 270,
   "metadata": {
    "id": "cQv8EUjOc6mU"
   },
   "outputs": [],
   "source": [
    "#What: Remove all data rows for dates after 22 Sept\n",
    "#Why: The data quality in terms of data availability begins to fade out after 22 Sept. As we are going to analyse correlations with no prediction for future values it seems reasonable to cut the datasat at 22 Sept.\n",
    "ox.drop(ox[ox['Date'] >20200922].index, inplace = True) "
   ]
  },
  {
   "cell_type": "code",
   "execution_count": 271,
   "metadata": {
    "id": "OzQB-5ozu32k"
   },
   "outputs": [],
   "source": [
    "ox.drop(ox[ox['CountryName'] =='Cayman Islands'].index, inplace = True) #Why: Country data did not range up to chosen max-Date of 22 Sept. \n",
    "ox.drop(ox[ox['CountryName'] =='Pitcairn Islands'].index, inplace = True) #Why: Country data did not range up to chosen max-Date of 22 Sept. \n",
    "ox.drop(ox[ox['CountryName'] =='British Virgin Islands'].index, inplace = True) #Why: Country data did not range up to chosen max-Date of 22 Sept. \n",
    "ox.drop(ox[ox['CountryName'] =='Turks and Caicos Islands'].index, inplace = True) #Why: Country data did not range up to chosen max-Date of 22 Sept. \n",
    "ox.drop(ox[ox['CountryName'] =='United States Virgin Islands'].index, inplace = True) #Why: Country included in data set but with no data\n",
    "ox.drop(ox[ox['CountryName'] =='Congo'].index, inplace = True) #Why: Has Nan value gap in index H2 and H2 in September. Before the gap values are 0, and after values are 1. This would therefore bias the analysis as the exact time of introducing the measure cannot be identified \n",
    "ox.drop(ox[ox['CountryName'] =='Montserrat'].index, inplace = True) #Why: Not sufficient data for index H1\n",
    "ox.drop(ox[ox['CountryName'] =='Comoros'].index, inplace = True) #Why: Included in Dataset but no values except [ConfirmedCases] and [Confirmed Deaths]\n",
    "ox.drop(ox[ox['CountryName'] =='Gibraltar'].index, inplace = True) #Why: Country data did not range up to chosen max-Date of 22 Sept. \n",
    "ox.drop(ox[ox['CountryName'] =='Falkland Islands'].index, inplace = True) #Why: Nodata on [E2_Debt/contract reliev]\n"
   ]
  },
  {
   "cell_type": "code",
   "execution_count": 272,
   "metadata": {
    "id": "Bh6JXwMDwobx"
   },
   "outputs": [],
   "source": [
    "#Replacing NaN Values of Indicators\n",
    "#What: Define für NaNs in which indicator for which country should be written to which value.\n",
    "#Why: By manually looking at NaNs of each country for each indicator, I have found that it makes sense not to replace them with always the same value but with different ones. \n",
    "#     For example: \n",
    "#     The Indicator [C2_Workplace closing] has some missing values for the countries Jordan(JOR) and Azerbaijan (AZE).\n",
    "#     In Jordan the values of the dates before and after the NaNs is \"0\". Also, for the rows with the NaN the Indices calculated by using the [C2_Workplace closing] are equal to the Indices before and after the dates with Nan.\n",
    "#     Therefore we can be certain that the missing value for Jordan in this case really is \"0\".\n",
    "#     Similarly (by looking at the data for the indicators and indices of the rows affected by the NaNs and the rows before and after, we could identify that the real value for the Azerbaijan NaNs for [C2_Workplace closing] should be \"2\".\n",
    "edit = [[\"C2_Workplace closing\", \"AZE\", 2],\n",
    "[\"C2_Workplace closing\", \"JOR\", 0],\n",
    "[\"C3_Cancel public events\",\"JPN\",1],\n",
    "[\"C4_Restrictions on gatherings\",\"LBN\",0],\n",
    "[\"C4_Restrictions on gatherings\",\"MRT\",0],\n",
    "[\"C5_Close public transport\",\"MYS\",0],\n",
    "[\"C6_Stay at home requirements\",\"BGR\",0],\n",
    "[\"H1_Public information campaigns\",\"ARG\",2],\n",
    "[\"H1_Public information campaigns\",\"ARE\",2],\n",
    "[\"H1_Public information campaigns\",\"UKR\",2],\n",
    "[\"H2_Testing policy\",\"ARG\",1],\n",
    "[\"H2_Testing policy\",\"ARE\",3],\n",
    "[\"H2_Testing policy\",\"UKR\",2],\n",
    "[\"H2_Testing policy\",\"NIC\",0],\n",
    "[\"H3_Contact tracing\",\"MRT\",0],\n",
    "[\"H3_Contact tracing\",\"UKR\",2],\n",
    "[\"E1_Income support\",\"ARG\",1],\n",
    "[\"E1_Income support\",\"GMB\",0],\n",
    "[\"E1_Income support\",\"ISR\",0],\n",
    "[\"E1_Income support\",\"PRI\",0],\n",
    "[\"E1_Income support\",\"UKR\",1],\n",
    "[\"E1_Income support\",\"ARE\",0],\n",
    "[\"E2_Debt/contract relief\",\"ARG\",1],\n",
    "[\"E2_Debt/contract relief\",\"UKR\",1],\n",
    "[\"E2_Debt/contract relief\",\"ARE\",2]\n",
    "]"
   ]
  },
  {
   "cell_type": "code",
   "execution_count": 273,
   "metadata": {
    "id": "sV2CLk5ge0e5"
   },
   "outputs": [],
   "source": [
    "for i in edit:\n",
    "    \n",
    "    # What: Find all Indices where Countries in List and NAN values in Column are included in list. \n",
    "    meineIDs = ox[(ox[\"CountryCode\"] == i[1]) & (ox[i[0]].isna())].index\n",
    "    \n",
    "    # What: replace the NaNs as defined in the list.\n",
    "    ox.loc[meineIDs, i[0]] = i[2]"
   ]
  },
  {
   "cell_type": "code",
   "execution_count": 274,
   "metadata": {
    "id": "2aDWWJd1NAXD"
   },
   "outputs": [],
   "source": [
    "#Replacing NaN Values of indices and correct those indices that have been obscured by missing values in indicators (cf. above)\n",
    "#What: Define für NaNs in which index for which country for which date should be written to which value.\n",
    "#Why: By manually looking at NaNs of each country for each indicator, we have found that it makes sense not to replace them with always the same value but with different ones.\n",
    "#     Also, in some cases if there was a NaN in the Indicator, to calculate the Index the data had assummed the value to be =0. In cases the value of the underlying indicator was found to be >0, the index is also corrected as follows:\n",
    "#     This is also why in some cases where the missing value of the underlying indicator really could be replaced with 0 (cf. \"edit\"), no change of the index was required.\n",
    "edit2 = [\n",
    "[\"StringencyIndex\",\"JPN20200525\",34.26],\n",
    "[\"GovernmentResponseIndex\",\"JPN20200525\",41.67],\n",
    "[\"ContainmentHealthIndex\",\"JPN20200525\",35.61],\n",
    "[\"EconomicSupportIndex\",\"JPN20200525\",[ox.loc[\"JPN20200525\",['EconomicSupportIndex']]]],\n",
    "\n",
    "[\"StringencyIndex\",\"MRT20200707\",[ox.loc[\"MRT20200707\",['StringencyIndex']]]],\n",
    "[\"GovernmentResponseIndex\",\"MRT20200707\",51.28],\n",
    "[\"ContainmentHealthIndex\",\"MRT20200707\",56.06],\n",
    "[\"EconomicSupportIndex\",\"MRT20200707\",[ox.loc[\"MRT20200707\",['EconomicSupportIndex']]]],\n",
    "               \n",
    "[\"StringencyIndex\",\"ARG20200702\",92.59],\n",
    "[\"GovernmentResponseIndex\",\"ARG20200702\",85.90],\n",
    "[\"ContainmentHealthIndex\",\"ARG20200702\",87.99],\n",
    "[\"EconomicSupportIndex\",\"ARG20200702\",75.00],\n",
    "\n",
    "[\"StringencyIndex\",\"ARE20200730\",43.52],\n",
    "[\"GovernmentResponseIndex\",\"ARE20200730\",53.21],\n",
    "[\"ContainmentHealthIndex\",\"ARE20200730\",53.79],\n",
    "[\"EconomicSupportIndex\",\"ARE20200730\",50.00],\n",
    "\n",
    "[\"StringencyIndex\",\"UKR20200907\",62.50],\n",
    "[\"GovernmentResponseIndex\",\"UKR20200907\",61.86],\n",
    "[\"ContainmentHealthIndex\",\"UKR20200907\",66.29],\n",
    "[\"EconomicSupportIndex\",\"UKR20200907\",37.50],\n",
    "   \n",
    "[\"StringencyIndex\",\"UKR20200828\",62.50],\n",
    "[\"GovernmentResponseIndex\",\"UKR20200828\",61.86],\n",
    "[\"ContainmentHealthIndex\",\"UKR20200828\",66.29],\n",
    "[\"EconomicSupportIndex\",\"UKR20200828\",37.50],\n",
    "\n",
    "[\"StringencyIndex\",\"ARE20200730\",43.52],\n",
    "[\"GovernmentResponseIndex\",\"ARE20200730\",53.21],\n",
    "[\"ContainmentHealthIndex\",\"ARE20200730\",53.79],\n",
    "[\"EconomicSupportIndex\",\"ARE20200730\",50.00],\n",
    "\n",
    "[\"StringencyIndex\",\"NIC20200414\",8.33],\n",
    "[\"GovernmentResponseIndex\",\"NIC20200414\",8.33],\n",
    "[\"ContainmentHealthIndex\",\"NIC20200414\",9.85],\n",
    "[\"EconomicSupportIndex\",\"NIC20200414\",00.00],\n",
    "\n",
    "[\"EconomicSupportIndex\",\"GMB20200507\",00.00],\n",
    "[\"EconomicSupportIndex\",\"GMB20200508\",00.00],\n",
    "\n",
    "[\"EconomicSupportIndex\",\"ISR20200316\",50.00],\n",
    "\n",
    "[\"EconomicSupportIndex\",\"PRI20200317\",50.00],\n",
    "]"
   ]
  },
  {
   "cell_type": "code",
   "execution_count": 275,
   "metadata": {
    "id": "qm9l9BMCNTTd"
   },
   "outputs": [],
   "source": [
    "for i in edit2:\n",
    "    \n",
    "    # What: Find all Indices for countris and dates as defined in list. \n",
    "    meineIDs = ox[(ox.index == i[1])].index\n",
    "    \n",
    "    # What: replace the NaNs or existing values as defined in the list.\n",
    "    ox.loc[meineIDs, i[0]] = i[2]"
   ]
  },
  {
   "cell_type": "code",
   "execution_count": 276,
   "metadata": {
    "id": "3-_wvKxplqv1"
   },
   "outputs": [],
   "source": [
    "#Tests to make sure that the above operation for replace Indicator NaN has benn sucessful.\n",
    "# Show distinct values for Ukraine [H1_Public information campaigns]. That way we can see if there are any NaNs remaining\n",
    "#pd.unique(ox.loc[ox[\"CountryCode\"]==\"UKR\", 'H1_Public information campaigns'])\n",
    "\n",
    "#Prior to the NaN correction there was a NaN for Japan in [C3_Cancel public events] on 20200525. The following operation controls the value for that day and finds the corrected value.\n",
    "#subset_JPN = ox[ox['CountryName'] == 'Japan']\n",
    "#subset_JPN_20200525 = subset_JPN[subset_JPN['Date'] == 20200525]\n",
    "#subset_JPN_20200524 = subset_JPN[subset_JPN['Date'] == 20200524]\n",
    "#subset_20200525 = ox[ox['Date'] == 20200525]\n",
    "#subset_JPN_20200525[\"C3_Cancel public events\"]"
   ]
  },
  {
   "cell_type": "code",
   "execution_count": 277,
   "metadata": {
    "colab": {
     "base_uri": "https://localhost:8080/",
     "height": 629
    },
    "id": "Qy5liuLe3L9c",
    "outputId": "796a9b48-3e1a-4bb7-87dd-e27cf8679a40"
   },
   "outputs": [
    {
     "data": {
      "text/plain": [
       "CountryName                                  0\n",
       "CountryCode                                  0\n",
       "Date                                         0\n",
       "C1_School closing                            0\n",
       "C1_Flag                                  17165\n",
       "C2_Workplace closing                         0\n",
       "C2_Flag                                  19081\n",
       "C3_Cancel public events                      0\n",
       "C3_Flag                                  15926\n",
       "C4_Restrictions on gatherings                0\n",
       "C4_Flag                                  17769\n",
       "C5_Close public transport                    0\n",
       "C5_Flag                                  28602\n",
       "C6_Stay at home requirements                 0\n",
       "C6_Flag                                  22754\n",
       "C7_Restrictions on internal movement         0\n",
       "C7_Flag                                  23650\n",
       "C8_International travel controls             0\n",
       "E1_Income support                            0\n",
       "E1_Flag                                  24438\n",
       "E2_Debt/contract relief                      0\n",
       "E3_Fiscal measures                         307\n",
       "E4_International support                   279\n",
       "H1_Public information campaigns              0\n",
       "H1_Flag                                   8237\n",
       "H2_Testing policy                            0\n",
       "H3_Contact tracing                           4\n",
       "H4_Emergency investment in healthcare      332\n",
       "H5_Investment in vaccines                  309\n",
       "H6_Facial Coverings                        577\n",
       "H6_Flag                                  24174\n",
       "ConfirmedCases                            9596\n",
       "ConfirmedDeaths                           9596\n",
       "StringencyIndex                              0\n",
       "GovernmentResponseIndex                      0\n",
       "ContainmentHealthIndex                       0\n",
       "EconomicSupportIndex                         0\n",
       "dtype: int64"
      ]
     },
     "execution_count": 277,
     "metadata": {},
     "output_type": "execute_result"
    }
   ],
   "source": [
    "pd.isna(ox).sum()"
   ]
  },
  {
   "cell_type": "markdown",
   "metadata": {
    "id": "KUTI4bjyOj_W"
   },
   "source": [
    "*Additions Kim* \n",
    "* gap filling ConfirmedCases and ConfirmedDeaths\n",
    "* adding columns for ConfirmedCases_per_day and ConfirmedDeaths_per_day "
   ]
  },
  {
   "cell_type": "code",
   "execution_count": 278,
   "metadata": {
    "colab": {
     "base_uri": "https://localhost:8080/",
     "height": 34
    },
    "id": "PJWNUyt0JgU1",
    "outputId": "d8bde128-a67e-4d65-ecbe-8693f9b4199b"
   },
   "outputs": [
    {
     "data": {
      "text/plain": [
       "9596"
      ]
     },
     "execution_count": 278,
     "metadata": {},
     "output_type": "execute_result"
    }
   ],
   "source": [
    "# WHAT: look for missing values in Confirmed Cases \n",
    "ox['ConfirmedCases'].isnull().sum(axis = 0)\n",
    "\n",
    "# problem: nan values not only in the beginning of the year but also at other random places \n",
    "# solution to fill gaps: replace each nan with the ConfirmedCases value from the day before "
   ]
  },
  {
   "cell_type": "code",
   "execution_count": 279,
   "metadata": {
    "colab": {
     "base_uri": "https://localhost:8080/",
     "height": 34
    },
    "id": "McY2EkPZwIFM",
    "outputId": "bee44111-b2f4-4573-aa8b-d659cac99565"
   },
   "outputs": [
    {
     "data": {
      "text/plain": [
       "27.0"
      ]
     },
     "execution_count": 279,
     "metadata": {},
     "output_type": "execute_result"
    }
   ],
   "source": [
    "# as we don't want to mess our data up, we first we have to fill the first day of each country \n",
    "# show number of cases on first day \n",
    "firstday = ox.loc[ox['Date'] == 20200101, 'ConfirmedCases']\n",
    "firstday['CHN20200101']"
   ]
  },
  {
   "cell_type": "code",
   "execution_count": 280,
   "metadata": {
    "id": "NsQMJ3XIwEIV"
   },
   "outputs": [],
   "source": [
    "# only China had confirmed cases on Jan, 01 \n",
    "#--> replace nan in ConfirmedCases of other countries on first day with 0\n",
    "ox.loc[(ox['Date'] == 20200101) & (ox['CountryCode']!=\"CHN\"), 'ConfirmedCases'] = 0"
   ]
  },
  {
   "cell_type": "code",
   "execution_count": 281,
   "metadata": {
    "id": "MkOroputwAtX"
   },
   "outputs": [],
   "source": [
    "# now we can apply forward fill\n",
    "ox.loc[:,'ConfirmedCases'] = ox.loc[:,'ConfirmedCases'].ffill()"
   ]
  },
  {
   "cell_type": "code",
   "execution_count": 282,
   "metadata": {
    "colab": {
     "base_uri": "https://localhost:8080/",
     "height": 34
    },
    "id": "CZR7c07Ln8XV",
    "outputId": "4f358300-850c-4384-82f0-711f515504cf"
   },
   "outputs": [
    {
     "data": {
      "text/plain": [
       "0"
      ]
     },
     "execution_count": 282,
     "metadata": {},
     "output_type": "execute_result"
    }
   ],
   "source": [
    "# check for nan values \n",
    "ox['ConfirmedCases'].isnull().sum(axis = 0)\n"
   ]
  },
  {
   "cell_type": "code",
   "execution_count": 283,
   "metadata": {
    "id": "0oV1g1c-n0JC"
   },
   "outputs": [],
   "source": [
    "#get confirmed cases per day \n",
    "\n",
    "\n",
    "#get difference from one day to the next day\n",
    "ox['ConfirmedCases_per_day'] = ox['ConfirmedCases'].diff()"
   ]
  },
  {
   "cell_type": "code",
   "execution_count": 284,
   "metadata": {
    "id": "9NPT2vOwvbNu"
   },
   "outputs": [],
   "source": [
    "# set first day to 0 (otherwise we'll have negative values on the first day)\n",
    "ox.loc[ox['Date'] == 20200101, 'ConfirmedCases_per_day'] = 0"
   ]
  },
  {
   "cell_type": "code",
   "execution_count": 285,
   "metadata": {
    "id": "Oc4TFhzkvzQr"
   },
   "outputs": [],
   "source": [
    "# as we don't know how cases increased in China in 2019, we use the ConfirmedCases on Jan 01 as ConfirmedCases per day\n",
    "ox.loc['CHN20200101', 'ConfirmedCases_per_day'] = ox.loc['CHN20200101', 'ConfirmedCases']"
   ]
  },
  {
   "cell_type": "code",
   "execution_count": 286,
   "metadata": {
    "colab": {
     "base_uri": "https://localhost:8080/",
     "height": 238
    },
    "id": "Q9rQflOFu5ii",
    "outputId": "c92d9d5b-7a7d-4579-807d-c45beb6b880f"
   },
   "outputs": [
    {
     "data": {
      "text/plain": [
       "CountryCodeDate\n",
       "ABW20200101    NaN\n",
       "AFG20200101    0.0\n",
       "AGO20200101    NaN\n",
       "AIA20200101    NaN\n",
       "ALB20200101    NaN\n",
       "              ... \n",
       "VUT20200101    NaN\n",
       "YEM20200101    NaN\n",
       "ZAF20200101    NaN\n",
       "ZMB20200101    NaN\n",
       "ZWE20200101    NaN\n",
       "Name: ConfirmedDeaths, Length: 177, dtype: float64"
      ]
     },
     "execution_count": 286,
     "metadata": {},
     "output_type": "execute_result"
    }
   ],
   "source": [
    "# do the same thing for confirmeddeaths\n",
    "\n",
    "ox['ConfirmedDeaths'].isnull().sum(axis = 0)\n",
    "firstday = ox.loc[ox['Date'] == 20200101, 'ConfirmedDeaths']\n",
    "firstday"
   ]
  },
  {
   "cell_type": "code",
   "execution_count": 287,
   "metadata": {
    "id": "EKI620qbpNcl"
   },
   "outputs": [],
   "source": [
    "#nodeaths on the firstday \n",
    "ox.loc[(ox['Date'] == 20200101) & (ox['CountryCode']!=\"CHN\"), 'ConfirmedDeaths'] = 0\n"
   ]
  },
  {
   "cell_type": "code",
   "execution_count": 288,
   "metadata": {
    "id": "troXVo47p3Ws"
   },
   "outputs": [],
   "source": [
    "#use forwardfill\n",
    "ox.loc[:,'ConfirmedDeaths'] = ox.loc[:,'ConfirmedDeaths'].ffill()\n"
   ]
  },
  {
   "cell_type": "code",
   "execution_count": 289,
   "metadata": {
    "colab": {
     "base_uri": "https://localhost:8080/",
     "height": 34
    },
    "id": "no5v9ht5p7C9",
    "outputId": "460ef589-5f8f-4937-c720-4d2331f8aa5e"
   },
   "outputs": [
    {
     "data": {
      "text/plain": [
       "0"
      ]
     },
     "execution_count": 289,
     "metadata": {},
     "output_type": "execute_result"
    }
   ],
   "source": [
    "# check for nan values \n",
    "ox['ConfirmedDeaths'].isnull().sum(axis = 0)"
   ]
  },
  {
   "cell_type": "code",
   "execution_count": 290,
   "metadata": {
    "id": "JW5o6B9_lpC2"
   },
   "outputs": [],
   "source": [
    "#get confirmed deaths per day \n",
    "\n",
    "\n",
    "#get difference from one day to the next day\n",
    "ox['ConfirmedDeaths_per_day'] = ox['ConfirmedDeaths'].diff()"
   ]
  },
  {
   "cell_type": "code",
   "execution_count": 291,
   "metadata": {
    "colab": {
     "base_uri": "https://localhost:8080/",
     "height": 238
    },
    "id": "m9602CDJnnAB",
    "outputId": "cd427827-40f4-409b-8247-d9f73eda79da"
   },
   "outputs": [
    {
     "data": {
      "text/plain": [
       "CountryCodeDate\n",
       "ABW20200101    0.0\n",
       "ABW20200102    0.0\n",
       "ABW20200103    0.0\n",
       "ABW20200104    0.0\n",
       "ABW20200105    0.0\n",
       "              ... \n",
       "ZWE20200918    0.0\n",
       "ZWE20200919    0.0\n",
       "ZWE20200920    1.0\n",
       "ZWE20200921    0.0\n",
       "ZWE20200922    1.0\n",
       "Name: ConfirmedDeaths_per_day, Length: 47082, dtype: float64"
      ]
     },
     "execution_count": 291,
     "metadata": {},
     "output_type": "execute_result"
    }
   ],
   "source": [
    "# set first day to 0 as there were no Covid-19 related deaths on Jan 01 (otherwise we'll have negative values on the first day)\n",
    "ox.loc[ox['Date'] == 20200101, 'ConfirmedDeaths_per_day'] = 0\n",
    "ox['ConfirmedDeaths_per_day']"
   ]
  },
  {
   "cell_type": "code",
   "execution_count": 292,
   "metadata": {},
   "outputs": [],
   "source": [
    "#Convert the Date column to datetime\n",
    "ox.Date = pd.to_datetime(ox.Date, format='%Y%m%d')"
   ]
  },
  {
   "cell_type": "markdown",
   "metadata": {
    "id": "kfYRDa8Vlp5Q"
   },
   "source": [
    "# Dataset 2: Democracy Indices"
   ]
  },
  {
   "cell_type": "markdown",
   "metadata": {},
   "source": [
    "Datacleaning and processing: Philipp"
   ]
  },
  {
   "cell_type": "code",
   "execution_count": 293,
   "metadata": {
    "id": "1C-UiDTDPrK3"
   },
   "outputs": [],
   "source": [
    "#Read the data from github\n",
    "\n",
    "#Democracy Date from the worldbank info.worldbank.org: https://tinyurl.com/y47yngnu\n",
    "EIU = \"https://github.com/roady1988/codeathome_ds_11/blob/main/EIU.xlsx?raw=true\"\n",
    "\n",
    "#Democracyindex, source Wikipedia: https://de.wikipedia.org/wiki/Demokratieindex\n",
    "INDEX2018 = \"https://raw.githubusercontent.com/roady1988/codeathome_ds_11/main/INDEX2018.csv\"\n",
    "INDEX2019 = \"https://raw.githubusercontent.com/roady1988/codeathome_ds_11/main/INDEX2019.csv\"\n",
    "\n",
    "#ISO3166 country code 2 and 3 letters english\n",
    "ISO_en = \"https://raw.githubusercontent.com/roady1988/codeathome_ds_11/main/ISO3166.csv\"\n",
    "#ISO3166 country code 2 letters german\n",
    "ISO_de = \"https://raw.githubusercontent.com/roady1988/codeathome_ds_11/main/german-iso-3166.csv\"\n",
    "\n",
    "#read all data\n",
    "df_EIU = pd.read_excel(EIU, sheet_name=\"MERGEPublic\", header = [0,1])\n",
    "df_INDEX2018 = pd.read_csv(INDEX2018, decimal=\",\", sep=\";\", encoding = 'iso-8859-1', index_col= \"Nr\")\n",
    "df_INDEX2019 = pd.read_csv(INDEX2019, decimal=\",\", sep=\";\", encoding = 'iso-8859-1', index_col= \"Nr\")\n",
    "df_ISO_en = pd.read_csv(ISO_en)\n",
    "df_ISO_de = pd.read_csv(ISO_de, header = None, names = [\"Code2\", \"country_ger\"])\n",
    "\n",
    "#drop not needed columns from the english iso dataframe\n",
    "df_ISO_en = df_ISO_en[[\"name\", \"alpha-2\", \"alpha-3\"]]\n",
    "df_ISO_en.columns = [\"country_en\", \"Code2\", \"Code3\"]"
   ]
  },
  {
   "cell_type": "code",
   "execution_count": 294,
   "metadata": {
    "id": "o9ehEu5kPrLY"
   },
   "outputs": [],
   "source": [
    "#cleaning of the name strings, due to the format the strings begin with  \"\\xa0\"\n",
    "a = []\n",
    "for i in df_INDEX2019.loc[:,\"Land\"]:\n",
    "    a.append(i.strip(\"\\xa0\"))\n",
    "\n",
    "#cleaning for countrys with \"xa0\" within the string    \n",
    "b = []\n",
    "for i in a:\n",
    "    b.append(i.split(\"\\xa0\"))\n",
    "c = []\n",
    "\n",
    "for i in b:\n",
    "    c.append(\" \".join(i))\n",
    "c\n",
    "\n",
    "df_INDEX2019[\"Land\"] = c"
   ]
  },
  {
   "cell_type": "code",
   "execution_count": 295,
   "metadata": {
    "id": "LEn-0BzYPrLo"
   },
   "outputs": [],
   "source": [
    "#2 letter code \"NA\" for Namibia was read as NAN, correction\n",
    "df_ISO_de.loc[df_ISO_de[\"country_ger\"] == \"Namibia\", \"Code2\"] = \"NA\"\n",
    "df_ISO_en.loc[df_ISO_en[\"Code2\"].isnull(), \"Code2\"] = \"NA\""
   ]
  },
  {
   "cell_type": "code",
   "execution_count": 296,
   "metadata": {
    "colab": {
     "base_uri": "https://localhost:8080/",
     "height": 326
    },
    "id": "ZAK3Rr6rPrL0",
    "outputId": "222b3e1a-1596-4bf5-8803-ee6ca588bf13"
   },
   "outputs": [
    {
     "name": "stdout",
     "output_type": "stream",
     "text": [
      "<class 'pandas.core.frame.DataFrame'>\n",
      "Int64Index: 139 entries, 0 to 138\n",
      "Data columns (total 10 columns):\n",
      " #   Column                        Non-Null Count  Dtype  \n",
      "---  ------                        --------------  -----  \n",
      " 0   Land                          139 non-null    object \n",
      " 1   Punkte gesamt                 139 non-null    float64\n",
      " 2   Wahlprozess und Pluralismus   139 non-null    float64\n",
      " 3   Funktionsweise der Regierung  139 non-null    float64\n",
      " 4   Politische Teilhabe           139 non-null    float64\n",
      " 5   Politische Kultur             139 non-null    float64\n",
      " 6   Bürgerrechte                  139 non-null    float64\n",
      " 7   Kategorie                     139 non-null    object \n",
      " 8   Code2                         139 non-null    object \n",
      " 9   country_ger                   139 non-null    object \n",
      "dtypes: float64(6), object(4)\n",
      "memory usage: 11.9+ KB\n"
     ]
    }
   ],
   "source": [
    "#INDEX add 2. ISO-Code\n",
    "df_INDEX2019_ISO = pd.merge(df_INDEX2019, df_ISO_de, left_on= \"Land\", right_on = \"country_ger\")\n",
    "df_INDEX2019_ISO.info()\n",
    "\n",
    "#INDEX add 3 ISO-Code, merge -> left\n",
    "df_INDEX2019_ISO = pd.merge(df_INDEX2019_ISO, df_ISO_en, on = \"Code2\", how = \"left\")"
   ]
  },
  {
   "cell_type": "code",
   "execution_count": 297,
   "metadata": {
    "colab": {
     "base_uri": "https://localhost:8080/",
     "height": 427
    },
    "id": "zetBM9bmPrMa",
    "outputId": "833a0289-26d8-455d-a87e-11805948eab4"
   },
   "outputs": [
    {
     "data": {
      "image/png": "[encoded data removed]",
      "text/plain": [
       "<Figure size 1080x360 with 2 Axes>"
      ]
     },
     "metadata": {
      "needs_background": "light"
     },
     "output_type": "display_data"
    }
   ],
   "source": [
    "fig, ax = plt.subplots(nrows = 1, ncols = 2, figsize = (15,5))\n",
    "sns.violinplot(x = \"Kategorie\", y = \"Bürgerrechte\", data = df_INDEX2018, ax = ax[0])\n",
    "sns.violinplot(x = \"Kategorie\", y = \"Bürgerrechte\", data = df_INDEX2019, ax = ax[1])\n",
    "ax[0].title.set_text(\"2018\")\n",
    "ax[1].title.set_text(\"2019\")\n",
    "ax[0].tick_params(labelrotation=45)\n",
    "ax[1].tick_params(labelrotation=45)\n",
    "plt.show()"
   ]
  },
  {
   "cell_type": "code",
   "execution_count": 298,
   "metadata": {
    "colab": {
     "base_uri": "https://localhost:8080/",
     "height": 653
    },
    "id": "4zrbWSAePrMl",
    "outputId": "a0b79217-49d5-4814-bd4f-7f06856075ae"
   },
   "outputs": [
    {
     "data": {
      "text/html": [
       "<div>\n",
       "<style scoped>\n",
       "    .dataframe tbody tr th:only-of-type {\n",
       "        vertical-align: middle;\n",
       "    }\n",
       "\n",
       "    .dataframe tbody tr th {\n",
       "        vertical-align: top;\n",
       "    }\n",
       "\n",
       "    .dataframe thead tr th {\n",
       "        text-align: left;\n",
       "    }\n",
       "</style>\n",
       "<table border=\"1\" class=\"dataframe\">\n",
       "  <thead>\n",
       "    <tr>\n",
       "      <th></th>\n",
       "      <th>Land</th>\n",
       "      <th>Code</th>\n",
       "      <th>Demokratie</th>\n",
       "      <th>Politische Stabilität</th>\n",
       "      <th>Positive Bürokratie</th>\n",
       "      <th>Sozialer Markt</th>\n",
       "      <th>Gesetz</th>\n",
       "      <th>Korruptionsprävention</th>\n",
       "      <th>Demokratie</th>\n",
       "      <th>Politische Stabilität</th>\n",
       "      <th>...</th>\n",
       "      <th>Positive Bürokratie</th>\n",
       "      <th>Sozialer Markt</th>\n",
       "      <th>Gesetz</th>\n",
       "      <th>Korruptionsprävention</th>\n",
       "      <th>Demokratie</th>\n",
       "      <th>Politische Stabilität</th>\n",
       "      <th>Positive Bürokratie</th>\n",
       "      <th>Sozialer Markt</th>\n",
       "      <th>Gesetz</th>\n",
       "      <th>Korruptionsprävention</th>\n",
       "    </tr>\n",
       "    <tr>\n",
       "      <th></th>\n",
       "      <th></th>\n",
       "      <th>Year</th>\n",
       "      <th>2019</th>\n",
       "      <th>2019</th>\n",
       "      <th>2019</th>\n",
       "      <th>2019</th>\n",
       "      <th>2019</th>\n",
       "      <th>2019</th>\n",
       "      <th>2018</th>\n",
       "      <th>2018</th>\n",
       "      <th>...</th>\n",
       "      <th>1998</th>\n",
       "      <th>1998</th>\n",
       "      <th>1998</th>\n",
       "      <th>1998</th>\n",
       "      <th>1996</th>\n",
       "      <th>1996</th>\n",
       "      <th>1996</th>\n",
       "      <th>1996</th>\n",
       "      <th>1996</th>\n",
       "      <th>1996</th>\n",
       "    </tr>\n",
       "  </thead>\n",
       "  <tbody>\n",
       "    <tr>\n",
       "      <th>0</th>\n",
       "      <td>Aruba</td>\n",
       "      <td>ABW</td>\n",
       "      <td>0.81250</td>\n",
       "      <td>0.75</td>\n",
       "      <td>0.625</td>\n",
       "      <td>0.7</td>\n",
       "      <td>0.84375</td>\n",
       "      <td>0.75</td>\n",
       "      <td>0.81250</td>\n",
       "      <td>0.75</td>\n",
       "      <td>...</td>\n",
       "      <td>NaN</td>\n",
       "      <td>NaN</td>\n",
       "      <td>NaN</td>\n",
       "      <td>NaN</td>\n",
       "      <td>NaN</td>\n",
       "      <td>NaN</td>\n",
       "      <td>NaN</td>\n",
       "      <td>NaN</td>\n",
       "      <td>NaN</td>\n",
       "      <td>NaN</td>\n",
       "    </tr>\n",
       "    <tr>\n",
       "      <th>1</th>\n",
       "      <td>Afghanistan</td>\n",
       "      <td>AFG</td>\n",
       "      <td>0.17375</td>\n",
       "      <td>0.1</td>\n",
       "      <td>0</td>\n",
       "      <td>0.2</td>\n",
       "      <td>0.09375</td>\n",
       "      <td>0</td>\n",
       "      <td>0.17975</td>\n",
       "      <td>0.1</td>\n",
       "      <td>...</td>\n",
       "      <td>NaN</td>\n",
       "      <td>NaN</td>\n",
       "      <td>NaN</td>\n",
       "      <td>NaN</td>\n",
       "      <td>NaN</td>\n",
       "      <td>NaN</td>\n",
       "      <td>NaN</td>\n",
       "      <td>NaN</td>\n",
       "      <td>NaN</td>\n",
       "      <td>NaN</td>\n",
       "    </tr>\n",
       "    <tr>\n",
       "      <th>2</th>\n",
       "      <td>Angola</td>\n",
       "      <td>AGO</td>\n",
       "      <td>0.34225</td>\n",
       "      <td>0.6</td>\n",
       "      <td>0.125</td>\n",
       "      <td>0.4</td>\n",
       "      <td>0.28125</td>\n",
       "      <td>0</td>\n",
       "      <td>0.33725</td>\n",
       "      <td>0.6</td>\n",
       "      <td>...</td>\n",
       "      <td>0.000</td>\n",
       "      <td>0.20</td>\n",
       "      <td>0.06250</td>\n",
       "      <td>0.00</td>\n",
       "      <td>0.0625</td>\n",
       "      <td>0.15</td>\n",
       "      <td>0.000</td>\n",
       "      <td>0.20</td>\n",
       "      <td>0.06250</td>\n",
       "      <td>0.00</td>\n",
       "    </tr>\n",
       "    <tr>\n",
       "      <th>3</th>\n",
       "      <td>Albania</td>\n",
       "      <td>ALB</td>\n",
       "      <td>0.57575</td>\n",
       "      <td>0.55</td>\n",
       "      <td>0.25</td>\n",
       "      <td>0.65</td>\n",
       "      <td>0.375</td>\n",
       "      <td>0.25</td>\n",
       "      <td>0.58025</td>\n",
       "      <td>0.6</td>\n",
       "      <td>...</td>\n",
       "      <td>NaN</td>\n",
       "      <td>NaN</td>\n",
       "      <td>NaN</td>\n",
       "      <td>NaN</td>\n",
       "      <td>NaN</td>\n",
       "      <td>NaN</td>\n",
       "      <td>NaN</td>\n",
       "      <td>NaN</td>\n",
       "      <td>NaN</td>\n",
       "      <td>NaN</td>\n",
       "    </tr>\n",
       "    <tr>\n",
       "      <th>4</th>\n",
       "      <td>United Arab Emirates</td>\n",
       "      <td>ARE</td>\n",
       "      <td>0.23175</td>\n",
       "      <td>0.8</td>\n",
       "      <td>0.75</td>\n",
       "      <td>0.75</td>\n",
       "      <td>0.71875</td>\n",
       "      <td>0.75</td>\n",
       "      <td>0.23175</td>\n",
       "      <td>0.8</td>\n",
       "      <td>...</td>\n",
       "      <td>0.500</td>\n",
       "      <td>0.75</td>\n",
       "      <td>0.56250</td>\n",
       "      <td>0.25</td>\n",
       "      <td>0.2500</td>\n",
       "      <td>0.75</td>\n",
       "      <td>0.500</td>\n",
       "      <td>0.75</td>\n",
       "      <td>0.56250</td>\n",
       "      <td>0.25</td>\n",
       "    </tr>\n",
       "    <tr>\n",
       "      <th>5</th>\n",
       "      <td>Argentina</td>\n",
       "      <td>ARG</td>\n",
       "      <td>0.63225</td>\n",
       "      <td>0.55</td>\n",
       "      <td>0.375</td>\n",
       "      <td>0.45</td>\n",
       "      <td>0.4375</td>\n",
       "      <td>0.5</td>\n",
       "      <td>0.63225</td>\n",
       "      <td>0.6</td>\n",
       "      <td>...</td>\n",
       "      <td>0.500</td>\n",
       "      <td>0.65</td>\n",
       "      <td>0.50000</td>\n",
       "      <td>0.25</td>\n",
       "      <td>0.3750</td>\n",
       "      <td>0.55</td>\n",
       "      <td>0.625</td>\n",
       "      <td>0.65</td>\n",
       "      <td>0.50000</td>\n",
       "      <td>0.25</td>\n",
       "    </tr>\n",
       "    <tr>\n",
       "      <th>6</th>\n",
       "      <td>Armenia</td>\n",
       "      <td>ARM</td>\n",
       "      <td>0.49575</td>\n",
       "      <td>0.4</td>\n",
       "      <td>0.375</td>\n",
       "      <td>0.5</td>\n",
       "      <td>0.5</td>\n",
       "      <td>0.25</td>\n",
       "      <td>0.45825</td>\n",
       "      <td>0.4</td>\n",
       "      <td>...</td>\n",
       "      <td>NaN</td>\n",
       "      <td>NaN</td>\n",
       "      <td>NaN</td>\n",
       "      <td>NaN</td>\n",
       "      <td>NaN</td>\n",
       "      <td>NaN</td>\n",
       "      <td>NaN</td>\n",
       "      <td>NaN</td>\n",
       "      <td>NaN</td>\n",
       "      <td>NaN</td>\n",
       "    </tr>\n",
       "    <tr>\n",
       "      <th>7</th>\n",
       "      <td>Australia</td>\n",
       "      <td>AUS</td>\n",
       "      <td>0.86075</td>\n",
       "      <td>0.85</td>\n",
       "      <td>1</td>\n",
       "      <td>0.9</td>\n",
       "      <td>0.9375</td>\n",
       "      <td>1</td>\n",
       "      <td>0.86075</td>\n",
       "      <td>0.85</td>\n",
       "      <td>...</td>\n",
       "      <td>0.625</td>\n",
       "      <td>0.75</td>\n",
       "      <td>0.93750</td>\n",
       "      <td>0.75</td>\n",
       "      <td>0.6875</td>\n",
       "      <td>0.95</td>\n",
       "      <td>0.625</td>\n",
       "      <td>0.70</td>\n",
       "      <td>0.93750</td>\n",
       "      <td>0.75</td>\n",
       "    </tr>\n",
       "    <tr>\n",
       "      <th>8</th>\n",
       "      <td>Austria</td>\n",
       "      <td>AUT</td>\n",
       "      <td>0.85200</td>\n",
       "      <td>0.85</td>\n",
       "      <td>0.75</td>\n",
       "      <td>0.8</td>\n",
       "      <td>0.96875</td>\n",
       "      <td>0.75</td>\n",
       "      <td>0.85200</td>\n",
       "      <td>0.85</td>\n",
       "      <td>...</td>\n",
       "      <td>1.000</td>\n",
       "      <td>0.75</td>\n",
       "      <td>0.93750</td>\n",
       "      <td>1.00</td>\n",
       "      <td>0.8125</td>\n",
       "      <td>0.95</td>\n",
       "      <td>1.000</td>\n",
       "      <td>0.75</td>\n",
       "      <td>0.93750</td>\n",
       "      <td>1.00</td>\n",
       "    </tr>\n",
       "    <tr>\n",
       "      <th>9</th>\n",
       "      <td>Azerbaijan</td>\n",
       "      <td>AZE</td>\n",
       "      <td>0.20000</td>\n",
       "      <td>0.35</td>\n",
       "      <td>0.375</td>\n",
       "      <td>0.4</td>\n",
       "      <td>0.375</td>\n",
       "      <td>0.25</td>\n",
       "      <td>0.19500</td>\n",
       "      <td>0.35</td>\n",
       "      <td>...</td>\n",
       "      <td>0.125</td>\n",
       "      <td>0.40</td>\n",
       "      <td>0.21875</td>\n",
       "      <td>0.00</td>\n",
       "      <td>0.1875</td>\n",
       "      <td>0.35</td>\n",
       "      <td>0.125</td>\n",
       "      <td>0.40</td>\n",
       "      <td>0.21875</td>\n",
       "      <td>0.00</td>\n",
       "    </tr>\n",
       "    <tr>\n",
       "      <th>10</th>\n",
       "      <td>Burundi</td>\n",
       "      <td>BDI</td>\n",
       "      <td>0.17000</td>\n",
       "      <td>0.2</td>\n",
       "      <td>0.125</td>\n",
       "      <td>0.35</td>\n",
       "      <td>0.1875</td>\n",
       "      <td>0</td>\n",
       "      <td>0.17900</td>\n",
       "      <td>0.2</td>\n",
       "      <td>...</td>\n",
       "      <td>NaN</td>\n",
       "      <td>NaN</td>\n",
       "      <td>NaN</td>\n",
       "      <td>NaN</td>\n",
       "      <td>NaN</td>\n",
       "      <td>NaN</td>\n",
       "      <td>NaN</td>\n",
       "      <td>NaN</td>\n",
       "      <td>NaN</td>\n",
       "      <td>NaN</td>\n",
       "    </tr>\n",
       "    <tr>\n",
       "      <th>11</th>\n",
       "      <td>Belgium</td>\n",
       "      <td>BEL</td>\n",
       "      <td>0.81950</td>\n",
       "      <td>0.75</td>\n",
       "      <td>0.625</td>\n",
       "      <td>0.8</td>\n",
       "      <td>0.84375</td>\n",
       "      <td>0.75</td>\n",
       "      <td>0.82650</td>\n",
       "      <td>0.75</td>\n",
       "      <td>...</td>\n",
       "      <td>1.000</td>\n",
       "      <td>0.75</td>\n",
       "      <td>0.84375</td>\n",
       "      <td>0.75</td>\n",
       "      <td>0.7500</td>\n",
       "      <td>0.95</td>\n",
       "      <td>1.000</td>\n",
       "      <td>0.75</td>\n",
       "      <td>0.84375</td>\n",
       "      <td>0.75</td>\n",
       "    </tr>\n",
       "    <tr>\n",
       "      <th>12</th>\n",
       "      <td>Benin</td>\n",
       "      <td>BEN</td>\n",
       "      <td>0.47325</td>\n",
       "      <td>0.5</td>\n",
       "      <td>0.125</td>\n",
       "      <td>0.35</td>\n",
       "      <td>0.25</td>\n",
       "      <td>0.25</td>\n",
       "      <td>0.50575</td>\n",
       "      <td>0.6</td>\n",
       "      <td>...</td>\n",
       "      <td>NaN</td>\n",
       "      <td>NaN</td>\n",
       "      <td>NaN</td>\n",
       "      <td>NaN</td>\n",
       "      <td>NaN</td>\n",
       "      <td>NaN</td>\n",
       "      <td>NaN</td>\n",
       "      <td>NaN</td>\n",
       "      <td>NaN</td>\n",
       "      <td>NaN</td>\n",
       "    </tr>\n",
       "    <tr>\n",
       "      <th>13</th>\n",
       "      <td>Burkina Faso</td>\n",
       "      <td>BFA</td>\n",
       "      <td>0.35825</td>\n",
       "      <td>0.3</td>\n",
       "      <td>0.125</td>\n",
       "      <td>0.4</td>\n",
       "      <td>0.375</td>\n",
       "      <td>0.5</td>\n",
       "      <td>0.42500</td>\n",
       "      <td>0.35</td>\n",
       "      <td>...</td>\n",
       "      <td>NaN</td>\n",
       "      <td>NaN</td>\n",
       "      <td>NaN</td>\n",
       "      <td>NaN</td>\n",
       "      <td>NaN</td>\n",
       "      <td>NaN</td>\n",
       "      <td>NaN</td>\n",
       "      <td>NaN</td>\n",
       "      <td>NaN</td>\n",
       "      <td>NaN</td>\n",
       "    </tr>\n",
       "    <tr>\n",
       "      <th>14</th>\n",
       "      <td>Bangladesh</td>\n",
       "      <td>BGD</td>\n",
       "      <td>0.38775</td>\n",
       "      <td>0.5</td>\n",
       "      <td>0.125</td>\n",
       "      <td>0.3</td>\n",
       "      <td>0.4375</td>\n",
       "      <td>0</td>\n",
       "      <td>0.37225</td>\n",
       "      <td>0.45</td>\n",
       "      <td>...</td>\n",
       "      <td>0.250</td>\n",
       "      <td>0.15</td>\n",
       "      <td>0.28125</td>\n",
       "      <td>0.25</td>\n",
       "      <td>0.3125</td>\n",
       "      <td>0.40</td>\n",
       "      <td>0.250</td>\n",
       "      <td>0.15</td>\n",
       "      <td>0.28125</td>\n",
       "      <td>0.25</td>\n",
       "    </tr>\n",
       "  </tbody>\n",
       "</table>\n",
       "<p>15 rows × 128 columns</p>\n",
       "</div>"
      ],
      "text/plain": [
       "                    Land Code Demokratie Politische Stabilität  \\\n",
       "                         Year       2019                  2019   \n",
       "0                  Aruba  ABW    0.81250                  0.75   \n",
       "1            Afghanistan  AFG    0.17375                   0.1   \n",
       "2                 Angola  AGO    0.34225                   0.6   \n",
       "3                Albania  ALB    0.57575                  0.55   \n",
       "4   United Arab Emirates  ARE    0.23175                   0.8   \n",
       "5              Argentina  ARG    0.63225                  0.55   \n",
       "6                Armenia  ARM    0.49575                   0.4   \n",
       "7              Australia  AUS    0.86075                  0.85   \n",
       "8                Austria  AUT    0.85200                  0.85   \n",
       "9             Azerbaijan  AZE    0.20000                  0.35   \n",
       "10               Burundi  BDI    0.17000                   0.2   \n",
       "11               Belgium  BEL    0.81950                  0.75   \n",
       "12                 Benin  BEN    0.47325                   0.5   \n",
       "13          Burkina Faso  BFA    0.35825                   0.3   \n",
       "14            Bangladesh  BGD    0.38775                   0.5   \n",
       "\n",
       "   Positive Bürokratie Sozialer Markt   Gesetz Korruptionsprävention  \\\n",
       "                  2019           2019     2019                  2019   \n",
       "0                0.625            0.7  0.84375                  0.75   \n",
       "1                    0            0.2  0.09375                     0   \n",
       "2                0.125            0.4  0.28125                     0   \n",
       "3                 0.25           0.65    0.375                  0.25   \n",
       "4                 0.75           0.75  0.71875                  0.75   \n",
       "5                0.375           0.45   0.4375                   0.5   \n",
       "6                0.375            0.5      0.5                  0.25   \n",
       "7                    1            0.9   0.9375                     1   \n",
       "8                 0.75            0.8  0.96875                  0.75   \n",
       "9                0.375            0.4    0.375                  0.25   \n",
       "10               0.125           0.35   0.1875                     0   \n",
       "11               0.625            0.8  0.84375                  0.75   \n",
       "12               0.125           0.35     0.25                  0.25   \n",
       "13               0.125            0.4    0.375                   0.5   \n",
       "14               0.125            0.3   0.4375                     0   \n",
       "\n",
       "   Demokratie Politische Stabilität  ... Positive Bürokratie Sozialer Markt  \\\n",
       "         2018                  2018  ...                1998           1998   \n",
       "0     0.81250                  0.75  ...                 NaN            NaN   \n",
       "1     0.17975                   0.1  ...                 NaN            NaN   \n",
       "2     0.33725                   0.6  ...               0.000           0.20   \n",
       "3     0.58025                   0.6  ...                 NaN            NaN   \n",
       "4     0.23175                   0.8  ...               0.500           0.75   \n",
       "5     0.63225                   0.6  ...               0.500           0.65   \n",
       "6     0.45825                   0.4  ...                 NaN            NaN   \n",
       "7     0.86075                  0.85  ...               0.625           0.75   \n",
       "8     0.85200                  0.85  ...               1.000           0.75   \n",
       "9     0.19500                  0.35  ...               0.125           0.40   \n",
       "10    0.17900                   0.2  ...                 NaN            NaN   \n",
       "11    0.82650                  0.75  ...               1.000           0.75   \n",
       "12    0.50575                   0.6  ...                 NaN            NaN   \n",
       "13    0.42500                  0.35  ...                 NaN            NaN   \n",
       "14    0.37225                  0.45  ...               0.250           0.15   \n",
       "\n",
       "     Gesetz Korruptionsprävention Demokratie Politische Stabilität  \\\n",
       "       1998                  1998       1996                  1996   \n",
       "0       NaN                   NaN        NaN                   NaN   \n",
       "1       NaN                   NaN        NaN                   NaN   \n",
       "2   0.06250                  0.00     0.0625                  0.15   \n",
       "3       NaN                   NaN        NaN                   NaN   \n",
       "4   0.56250                  0.25     0.2500                  0.75   \n",
       "5   0.50000                  0.25     0.3750                  0.55   \n",
       "6       NaN                   NaN        NaN                   NaN   \n",
       "7   0.93750                  0.75     0.6875                  0.95   \n",
       "8   0.93750                  1.00     0.8125                  0.95   \n",
       "9   0.21875                  0.00     0.1875                  0.35   \n",
       "10      NaN                   NaN        NaN                   NaN   \n",
       "11  0.84375                  0.75     0.7500                  0.95   \n",
       "12      NaN                   NaN        NaN                   NaN   \n",
       "13      NaN                   NaN        NaN                   NaN   \n",
       "14  0.28125                  0.25     0.3125                  0.40   \n",
       "\n",
       "   Positive Bürokratie Sozialer Markt   Gesetz Korruptionsprävention  \n",
       "                  1996           1996     1996                  1996  \n",
       "0                  NaN            NaN      NaN                   NaN  \n",
       "1                  NaN            NaN      NaN                   NaN  \n",
       "2                0.000           0.20  0.06250                  0.00  \n",
       "3                  NaN            NaN      NaN                   NaN  \n",
       "4                0.500           0.75  0.56250                  0.25  \n",
       "5                0.625           0.65  0.50000                  0.25  \n",
       "6                  NaN            NaN      NaN                   NaN  \n",
       "7                0.625           0.70  0.93750                  0.75  \n",
       "8                1.000           0.75  0.93750                  1.00  \n",
       "9                0.125           0.40  0.21875                  0.00  \n",
       "10                 NaN            NaN      NaN                   NaN  \n",
       "11               1.000           0.75  0.84375                  0.75  \n",
       "12                 NaN            NaN      NaN                   NaN  \n",
       "13                 NaN            NaN      NaN                   NaN  \n",
       "14               0.250           0.15  0.28125                  0.25  \n",
       "\n",
       "[15 rows x 128 columns]"
      ]
     },
     "execution_count": 298,
     "metadata": {},
     "output_type": "execute_result"
    }
   ],
   "source": [
    "#Rename the columns of the EIU dataframe with more descriptive names\n",
    "EIU_col = df_EIU.columns\n",
    "#var that contains all numbers as string, needed to delete all numbers from strings\n",
    "str_num = \"0123456789\"\n",
    "#dict of more descriptive column names\n",
    "dic_col = {\"VA\":\"Demokratie\",\n",
    "           \"PV\":\"Politische Stabilität\",\n",
    "           \"GE\":\"Positive Bürokratie\",\n",
    "           \"RQ\":\"Sozialer Markt\",\n",
    "           \"RL\":\"Gesetz\",\n",
    "           \"CC\":\"Korruptionsprävention\"}\n",
    "\n",
    "#Strip \"EIU\" from columns\n",
    "EIU_cat1 = []\n",
    "n = 0\n",
    "for i in EIU_col:\n",
    "    \n",
    "    a = i[0]\n",
    "    a = a.replace(\"EIU\", \"\")\n",
    "    \n",
    "    #Strip year from columns\n",
    "    if n > 1:\n",
    "        a = a.strip(str_num)\n",
    "    #renaming of the columns, try/except due to the columns that are not in the dict\n",
    "    try:\n",
    "        a = dic_col[a]\n",
    "    except:\n",
    "        pass\n",
    "    EIU_cat1.append(a)    \n",
    "    n += 1\n",
    "\n",
    "#List of the years in the columns\n",
    "EIU_cat2 = []\n",
    "for i in EIU_col:\n",
    "    EIU_cat2.append(i[1])\n",
    "\n",
    "EIU_cat1[0] = \"Land\"\n",
    "\n",
    "#Use new multicolumn\n",
    "EIU_col_new = pd.MultiIndex.from_tuples(list(zip(EIU_cat1,EIU_cat2)))\n",
    "df_EIU.columns = EIU_col_new\n",
    "df_EIU.head(15)"
   ]
  },
  {
   "cell_type": "code",
   "execution_count": 299,
   "metadata": {},
   "outputs": [],
   "source": [
    "#renaming the columns\n",
    "df_INDEX2019_ISO.columns = ['Land', 'Dem_Score_Total', 'Electoral_process_pluralism',\n",
    "       'Functioning_of_government', 'Political_participation',\n",
    "       'Political_culture', 'Civil_liberties', 'Regime_type', 'Code2',\n",
    "       'country_ger', 'country_en', 'Code3']"
   ]
  },
  {
   "cell_type": "code",
   "execution_count": 300,
   "metadata": {
    "colab": {
     "base_uri": "https://localhost:8080/",
     "height": 362
    },
    "id": "Ke4GPeWLb2cH",
    "outputId": "aa3036e5-6368-42d0-a954-6b2eb3f1e2fe"
   },
   "outputs": [
    {
     "name": "stdout",
     "output_type": "stream",
     "text": [
      "<class 'pandas.core.frame.DataFrame'>\n",
      "Int64Index: 139 entries, 0 to 138\n",
      "Data columns (total 12 columns):\n",
      " #   Column                       Non-Null Count  Dtype  \n",
      "---  ------                       --------------  -----  \n",
      " 0   Land                         139 non-null    object \n",
      " 1   Dem_Score_Total              139 non-null    float64\n",
      " 2   Electoral_process_pluralism  139 non-null    float64\n",
      " 3   Functioning_of_government    139 non-null    float64\n",
      " 4   Political_participation      139 non-null    float64\n",
      " 5   Political_culture            139 non-null    float64\n",
      " 6   Civil_liberties              139 non-null    float64\n",
      " 7   Regime_type                  139 non-null    object \n",
      " 8   Code2                        139 non-null    object \n",
      " 9   country_ger                  139 non-null    object \n",
      " 10  country_en                   139 non-null    object \n",
      " 11  Code3                        139 non-null    object \n",
      "dtypes: float64(6), object(6)\n",
      "memory usage: 14.1+ KB\n"
     ]
    }
   ],
   "source": [
    "df_INDEX2019_ISO.info()"
   ]
  },
  {
   "cell_type": "markdown",
   "metadata": {},
   "source": [
    "# Dataset 3: Population data"
   ]
  },
  {
   "cell_type": "markdown",
   "metadata": {},
   "source": [
    "Datacleaning and processing (done external so data can be stored in GitHub): Sebastian, (Philipp)"
   ]
  },
  {
   "cell_type": "code",
   "execution_count": 301,
   "metadata": {
    "scrolled": true
   },
   "outputs": [
    {
     "data": {
      "text/html": [
       "<div>\n",
       "<style scoped>\n",
       "    .dataframe tbody tr th:only-of-type {\n",
       "        vertical-align: middle;\n",
       "    }\n",
       "\n",
       "    .dataframe tbody tr th {\n",
       "        vertical-align: top;\n",
       "    }\n",
       "\n",
       "    .dataframe thead th {\n",
       "        text-align: right;\n",
       "    }\n",
       "</style>\n",
       "<table border=\"1\" class=\"dataframe\">\n",
       "  <thead>\n",
       "    <tr style=\"text-align: right;\">\n",
       "      <th></th>\n",
       "      <th>PopDensity_per_sq</th>\n",
       "      <th>Code3</th>\n",
       "    </tr>\n",
       "  </thead>\n",
       "  <tbody>\n",
       "    <tr>\n",
       "      <th>0</th>\n",
       "      <td>59.627</td>\n",
       "      <td>AFG</td>\n",
       "    </tr>\n",
       "    <tr>\n",
       "      <th>1</th>\n",
       "      <td>105.029</td>\n",
       "      <td>ALB</td>\n",
       "    </tr>\n",
       "    <tr>\n",
       "      <th>2</th>\n",
       "      <td>18.411</td>\n",
       "      <td>DZA</td>\n",
       "    </tr>\n",
       "    <tr>\n",
       "      <th>3</th>\n",
       "      <td>275.985</td>\n",
       "      <td>ASM</td>\n",
       "    </tr>\n",
       "    <tr>\n",
       "      <th>4</th>\n",
       "      <td>164.394</td>\n",
       "      <td>AND</td>\n",
       "    </tr>\n",
       "  </tbody>\n",
       "</table>\n",
       "</div>"
      ],
      "text/plain": [
       "   PopDensity_per_sq Code3\n",
       "0             59.627   AFG\n",
       "1            105.029   ALB\n",
       "2             18.411   DZA\n",
       "3            275.985   ASM\n",
       "4            164.394   AND"
      ]
     },
     "execution_count": 301,
     "metadata": {},
     "output_type": "execute_result"
    }
   ],
   "source": [
    "population = \"https://raw.githubusercontent.com/supermonti1999/TechLabs_Projekt/main/POP_ISO.csv\"\n",
    "df_population = pd.read_csv(population, index_col = \"Unnamed: 0\")\n",
    "#Info: Population given in 1000\n",
    "\n",
    "#What: Adding a mean age per age-group\n",
    "#Why: In order to be able to calculate the mean age of a population\n",
    "df_population[\"AgeGrpMid\"] = df_population[\"AgeGrpStart\"] + 2\n",
    "#Dropping not needed columns\n",
    "df_population.drop(axis = 1, columns = [\"Variant\", \"Time\", \"MidPeriod\", \"AgeGrpSpan\"], inplace = True)\n",
    "\n",
    "#Changing the order of the columns for cosmetic reasons\n",
    "df_population = df_population[['Location', 'Code_3_digits', 'AgeGrp', 'AgeGrpStart', 'AgeGrpMid', \n",
    "                              'PopMale', 'PopFemale', 'PopTotal']]\n",
    "\n",
    "#What: Create Dataframe of the Population Density with three Digit Codes\n",
    "#Source: Data extracted from  https://population.un.org/wpp/Download/Standard/CSV/ for the Total Population and the Population Density. \n",
    "df= pd.read_csv('WPP2019_TotalPopulationBySex.csv')\n",
    "\n",
    "#What:Filtering of the data for the relevant data\n",
    "#Why: In order to extract the relevant data\n",
    "Filter_2020=df['Time']==2020 \n",
    "Filter_2020_v1=(df['Variant']=='Medium') \n",
    "\n",
    "\n",
    "df_POP_Density=df[Filter_2020_v1& Filter_2020]\n",
    "\n",
    "#What: Modyfing the dataframe by eliminating the superfluos columns\n",
    "\n",
    "df_POP_Density.head()\n",
    "df_ISO_en.head() \n",
    "#Info: Population density per square kilometer(thousands)\n",
    "#What:Add three digit codes for the countrys to the dataframe\n",
    "#Why: In order to merge it with the \"Master\" dataframe\n",
    "df_POP_Density= pd.merge(df_POP_Density, df_ISO_en, left_on='Location',right_on='country_en')\n",
    "\n",
    "#Drop the unnecessary columns of the data\n",
    "df_POP_Density=df_POP_Density[['PopDensity','Code3']]\n",
    "#What: Check for Nan Values?\n",
    "#Why:. To secure that the data fits\n",
    "#df_POP_Density[\"Code_3_digits\"].isnull().sum()\n",
    "df_POP_Density.columns=['PopDensity_per_sq','Code3']\n",
    "df_POP_Density.head()"
   ]
  },
  {
   "cell_type": "code",
   "execution_count": 302,
   "metadata": {},
   "outputs": [],
   "source": [
    "#Adding a column for the percentage of an age group in a population\n",
    "df_population[\"AgePercPop\"] = np.nan\n",
    "\n",
    "#What: Creating a list of all individual countrys\n",
    "#Why: In order to calculate the mean age and the percentage of each agegroup for each country separately\n",
    "list_pop_ISO = df_population.Code_3_digits.unique()\n",
    "\n",
    "#Calculation of the percentage of each age group in the population of the individual countrys\n",
    "for i in list_pop_ISO:\n",
    "    #Calculate the total population of a country\n",
    "    sum_PopTotal = df_population.loc[df_population.Code_3_digits == i].PopTotal.sum()\n",
    "    #Calculate the percentages, #\"\\\" in order to start new line\n",
    "    df_population.loc[df_population.Code_3_digits == i, \"AgePercPop\"] = \\\n",
    "    df_population.loc[df_population.Code_3_digits == i, \"PopTotal\"] / sum_PopTotal\n",
    "\n",
    "    \n",
    "#Calcuation of the mean age of each country AND    \n",
    "#Caculation of the total population per country\n",
    "\n",
    "\n",
    "#Adding a column (removed later) that is the product of Age and Population \n",
    "#AND the mean age of a country\n",
    "#AND the Total population per country\n",
    "\n",
    "df_population[\"Age_X_Pop\"] = df_population[\"AgeGrpMid\"] * df_population[\"PopTotal\"]\n",
    "df_population[\"AgeCountryMean\"] = np.nan\n",
    "df_population[\"PopTotalCountry\"] = np.nan\n",
    "\n",
    "for i in list_pop_ISO:\n",
    "    sum_PopTotal = df_population.loc[df_population.Code_3_digits == i].PopTotal.sum()\n",
    "    df_population.loc[df_population.Code_3_digits == i, \"PopTotalCountry\"] = sum_PopTotal    \n",
    "    mean_age = df_population.loc[df_population.Code_3_digits == i, \"Age_X_Pop\"].sum()/sum_PopTotal\n",
    "    df_population.loc[df_population.Code_3_digits == i, \"AgeCountryMean\"] = mean_age\n",
    "\n",
    "#Dropping the not no longer needed column\n",
    "df_population.drop(axis = 1, columns = [\"Age_X_Pop\"], inplace = True)\n",
    "\n",
    "#Changing the order of the columns for cosmetic reasons\n",
    "df_population = df_population[['Location', 'Code_3_digits', 'AgeGrp', 'AgeGrpStart', 'AgeGrpMid', \n",
    "                               'AgePercPop', 'AgeCountryMean','PopMale', 'PopFemale', 'PopTotal',\n",
    "                               'PopTotalCountry']]"
   ]
  },
  {
   "cell_type": "code",
   "execution_count": 303,
   "metadata": {},
   "outputs": [
    {
     "data": {
      "image/png": "[encoded data removed]",
      "text/plain": [
       "<Figure size 3600x720 with 1 Axes>"
      ]
     },
     "metadata": {
      "needs_background": "light"
     },
     "output_type": "display_data"
    }
   ],
   "source": [
    "#Visualisation of the mean age per country in a bar plot (click to zoom)\n",
    "plt.figure(figsize = (50,10))\n",
    "df_population.groupby(\"Location\").mean().AgeCountryMean.sort_values().plot.bar()\n",
    "plt.grid(which=\"Major\")\n",
    "plt.show()"
   ]
  },
  {
   "cell_type": "code",
   "execution_count": 304,
   "metadata": {},
   "outputs": [
    {
     "data": {
      "image/png": "[encoded data removed]",
      "text/plain": [
       "<Figure size 3600x720 with 1 Axes>"
      ]
     },
     "metadata": {
      "needs_background": "light"
     },
     "output_type": "display_data"
    }
   ],
   "source": [
    "#Visualisation of the total population per country in a bar plot (click to zoom)\n",
    "plt.figure(figsize = (50,10))\n",
    "df_population.groupby(\"Location\").mean().PopTotalCountry.sort_values().plot.bar()\n",
    "plt.grid(which=\"Major\")\n",
    "plt.show()"
   ]
  },
  {
   "cell_type": "markdown",
   "metadata": {},
   "source": [
    "# Merging of the collected data"
   ]
  },
  {
   "cell_type": "markdown",
   "metadata": {},
   "source": [
    "Putting together all the data: Philipp"
   ]
  },
  {
   "cell_type": "code",
   "execution_count": 305,
   "metadata": {},
   "outputs": [],
   "source": [
    "#Grouping of the population data by country and dropping columns\n",
    "df_population_aggr = df_population.groupby(\"Code_3_digits\").mean()[[\"AgeCountryMean\", \"PopTotalCountry\"]]\n",
    "#Merging of the demcracy data and the population data\n",
    "df_INDEX_POP = pd.merge(df_INDEX2019_ISO, df_population_aggr, how = \"outer\", left_on = \"Code3\", \n",
    "                        right_index= True)\n",
    "df_INDEX_POP.reset_index(inplace=True, drop = True)\n"
   ]
  },
  {
   "cell_type": "code",
   "execution_count": 306,
   "metadata": {
    "scrolled": true
   },
   "outputs": [
    {
     "data": {
      "image/png": "[encoded data removed]",
      "text/plain": [
       "<Figure size 432x288 with 1 Axes>"
      ]
     },
     "metadata": {
      "needs_background": "light"
     },
     "output_type": "display_data"
    }
   ],
   "source": [
    "#Testplot, mean age versus democracy score\n",
    "x = df_INDEX_POP[\"Dem_Score_Total\"]\n",
    "y = df_INDEX_POP[\"AgeCountryMean\"]\n",
    "plt.scatter(x,y)\n",
    "plt.ylabel(\"mean age [a]\")\n",
    "plt.xlabel(\"democracy score [-]\")\n",
    "plt.show()"
   ]
  },
  {
   "cell_type": "code",
   "execution_count": 307,
   "metadata": {},
   "outputs": [],
   "source": [
    "#Oxfort Dataframe, Index reset\n",
    "ox.reset_index(inplace=True, drop = True)\n"
   ]
  },
  {
   "cell_type": "markdown",
   "metadata": {},
   "source": [
    "### \"Master\"-Dataframe"
   ]
  },
  {
   "cell_type": "code",
   "execution_count": 308,
   "metadata": {},
   "outputs": [],
   "source": [
    "#Merging into the \"Master\"-Dataframe\n",
    "df_corona = pd.merge(ox, df_INDEX_POP, left_on = \"CountryCode\", right_on= \"Code3\", how = \"outer\")"
   ]
  },
  {
   "cell_type": "code",
   "execution_count": 309,
   "metadata": {},
   "outputs": [],
   "source": [
    "#Dropping few columns\n",
    "df_corona.drop(axis = 1, columns = [\"Code2\", \"country_ger\", \"Land\"], inplace = True)"
   ]
  },
  {
   "cell_type": "code",
   "execution_count": 310,
   "metadata": {},
   "outputs": [
    {
     "data": {
      "text/html": [
       "<div>\n",
       "<style scoped>\n",
       "    .dataframe tbody tr th:only-of-type {\n",
       "        vertical-align: middle;\n",
       "    }\n",
       "\n",
       "    .dataframe tbody tr th {\n",
       "        vertical-align: top;\n",
       "    }\n",
       "\n",
       "    .dataframe thead th {\n",
       "        text-align: right;\n",
       "    }\n",
       "</style>\n",
       "<table border=\"1\" class=\"dataframe\">\n",
       "  <thead>\n",
       "    <tr style=\"text-align: right;\">\n",
       "      <th></th>\n",
       "      <th>CountryName</th>\n",
       "      <th>CountryCode</th>\n",
       "      <th>Date</th>\n",
       "      <th>C1_School closing</th>\n",
       "      <th>C1_Flag</th>\n",
       "      <th>C2_Workplace closing</th>\n",
       "      <th>C2_Flag</th>\n",
       "      <th>C3_Cancel public events</th>\n",
       "      <th>C3_Flag</th>\n",
       "      <th>C4_Restrictions on gatherings</th>\n",
       "      <th>...</th>\n",
       "      <th>Electoral_process_pluralism</th>\n",
       "      <th>Functioning_of_government</th>\n",
       "      <th>Political_participation</th>\n",
       "      <th>Political_culture</th>\n",
       "      <th>Civil_liberties</th>\n",
       "      <th>Regime_type</th>\n",
       "      <th>country_en</th>\n",
       "      <th>Code3</th>\n",
       "      <th>AgeCountryMean</th>\n",
       "      <th>PopTotalCountry</th>\n",
       "    </tr>\n",
       "  </thead>\n",
       "  <tbody>\n",
       "    <tr>\n",
       "      <th>11172</th>\n",
       "      <td>Germany</td>\n",
       "      <td>DEU</td>\n",
       "      <td>2020-01-01</td>\n",
       "      <td>0.0</td>\n",
       "      <td>NaN</td>\n",
       "      <td>0.0</td>\n",
       "      <td>NaN</td>\n",
       "      <td>0.0</td>\n",
       "      <td>NaN</td>\n",
       "      <td>0.0</td>\n",
       "      <td>...</td>\n",
       "      <td>9.58</td>\n",
       "      <td>8.57</td>\n",
       "      <td>8.33</td>\n",
       "      <td>7.5</td>\n",
       "      <td>9.41</td>\n",
       "      <td>Vollständige Demokratie</td>\n",
       "      <td>Germany</td>\n",
       "      <td>DEU</td>\n",
       "      <td>44.028523</td>\n",
       "      <td>83783.945</td>\n",
       "    </tr>\n",
       "    <tr>\n",
       "      <th>11173</th>\n",
       "      <td>Germany</td>\n",
       "      <td>DEU</td>\n",
       "      <td>2020-01-02</td>\n",
       "      <td>0.0</td>\n",
       "      <td>NaN</td>\n",
       "      <td>0.0</td>\n",
       "      <td>NaN</td>\n",
       "      <td>0.0</td>\n",
       "      <td>NaN</td>\n",
       "      <td>0.0</td>\n",
       "      <td>...</td>\n",
       "      <td>9.58</td>\n",
       "      <td>8.57</td>\n",
       "      <td>8.33</td>\n",
       "      <td>7.5</td>\n",
       "      <td>9.41</td>\n",
       "      <td>Vollständige Demokratie</td>\n",
       "      <td>Germany</td>\n",
       "      <td>DEU</td>\n",
       "      <td>44.028523</td>\n",
       "      <td>83783.945</td>\n",
       "    </tr>\n",
       "    <tr>\n",
       "      <th>11174</th>\n",
       "      <td>Germany</td>\n",
       "      <td>DEU</td>\n",
       "      <td>2020-01-03</td>\n",
       "      <td>0.0</td>\n",
       "      <td>NaN</td>\n",
       "      <td>0.0</td>\n",
       "      <td>NaN</td>\n",
       "      <td>0.0</td>\n",
       "      <td>NaN</td>\n",
       "      <td>0.0</td>\n",
       "      <td>...</td>\n",
       "      <td>9.58</td>\n",
       "      <td>8.57</td>\n",
       "      <td>8.33</td>\n",
       "      <td>7.5</td>\n",
       "      <td>9.41</td>\n",
       "      <td>Vollständige Demokratie</td>\n",
       "      <td>Germany</td>\n",
       "      <td>DEU</td>\n",
       "      <td>44.028523</td>\n",
       "      <td>83783.945</td>\n",
       "    </tr>\n",
       "    <tr>\n",
       "      <th>11175</th>\n",
       "      <td>Germany</td>\n",
       "      <td>DEU</td>\n",
       "      <td>2020-01-04</td>\n",
       "      <td>0.0</td>\n",
       "      <td>NaN</td>\n",
       "      <td>0.0</td>\n",
       "      <td>NaN</td>\n",
       "      <td>0.0</td>\n",
       "      <td>NaN</td>\n",
       "      <td>0.0</td>\n",
       "      <td>...</td>\n",
       "      <td>9.58</td>\n",
       "      <td>8.57</td>\n",
       "      <td>8.33</td>\n",
       "      <td>7.5</td>\n",
       "      <td>9.41</td>\n",
       "      <td>Vollständige Demokratie</td>\n",
       "      <td>Germany</td>\n",
       "      <td>DEU</td>\n",
       "      <td>44.028523</td>\n",
       "      <td>83783.945</td>\n",
       "    </tr>\n",
       "    <tr>\n",
       "      <th>11176</th>\n",
       "      <td>Germany</td>\n",
       "      <td>DEU</td>\n",
       "      <td>2020-01-05</td>\n",
       "      <td>0.0</td>\n",
       "      <td>NaN</td>\n",
       "      <td>0.0</td>\n",
       "      <td>NaN</td>\n",
       "      <td>0.0</td>\n",
       "      <td>NaN</td>\n",
       "      <td>0.0</td>\n",
       "      <td>...</td>\n",
       "      <td>9.58</td>\n",
       "      <td>8.57</td>\n",
       "      <td>8.33</td>\n",
       "      <td>7.5</td>\n",
       "      <td>9.41</td>\n",
       "      <td>Vollständige Demokratie</td>\n",
       "      <td>Germany</td>\n",
       "      <td>DEU</td>\n",
       "      <td>44.028523</td>\n",
       "      <td>83783.945</td>\n",
       "    </tr>\n",
       "  </tbody>\n",
       "</table>\n",
       "<p>5 rows × 50 columns</p>\n",
       "</div>"
      ],
      "text/plain": [
       "      CountryName CountryCode       Date  C1_School closing  C1_Flag  \\\n",
       "11172     Germany         DEU 2020-01-01                0.0      NaN   \n",
       "11173     Germany         DEU 2020-01-02                0.0      NaN   \n",
       "11174     Germany         DEU 2020-01-03                0.0      NaN   \n",
       "11175     Germany         DEU 2020-01-04                0.0      NaN   \n",
       "11176     Germany         DEU 2020-01-05                0.0      NaN   \n",
       "\n",
       "       C2_Workplace closing  C2_Flag  C3_Cancel public events  C3_Flag  \\\n",
       "11172                   0.0      NaN                      0.0      NaN   \n",
       "11173                   0.0      NaN                      0.0      NaN   \n",
       "11174                   0.0      NaN                      0.0      NaN   \n",
       "11175                   0.0      NaN                      0.0      NaN   \n",
       "11176                   0.0      NaN                      0.0      NaN   \n",
       "\n",
       "       C4_Restrictions on gatherings  ...  Electoral_process_pluralism  \\\n",
       "11172                            0.0  ...                         9.58   \n",
       "11173                            0.0  ...                         9.58   \n",
       "11174                            0.0  ...                         9.58   \n",
       "11175                            0.0  ...                         9.58   \n",
       "11176                            0.0  ...                         9.58   \n",
       "\n",
       "       Functioning_of_government  Political_participation  Political_culture  \\\n",
       "11172                       8.57                     8.33                7.5   \n",
       "11173                       8.57                     8.33                7.5   \n",
       "11174                       8.57                     8.33                7.5   \n",
       "11175                       8.57                     8.33                7.5   \n",
       "11176                       8.57                     8.33                7.5   \n",
       "\n",
       "       Civil_liberties              Regime_type  country_en  Code3  \\\n",
       "11172             9.41  Vollständige Demokratie     Germany    DEU   \n",
       "11173             9.41  Vollständige Demokratie     Germany    DEU   \n",
       "11174             9.41  Vollständige Demokratie     Germany    DEU   \n",
       "11175             9.41  Vollständige Demokratie     Germany    DEU   \n",
       "11176             9.41  Vollständige Demokratie     Germany    DEU   \n",
       "\n",
       "       AgeCountryMean  PopTotalCountry  \n",
       "11172       44.028523        83783.945  \n",
       "11173       44.028523        83783.945  \n",
       "11174       44.028523        83783.945  \n",
       "11175       44.028523        83783.945  \n",
       "11176       44.028523        83783.945  \n",
       "\n",
       "[5 rows x 50 columns]"
      ]
     },
     "execution_count": 310,
     "metadata": {},
     "output_type": "execute_result"
    }
   ],
   "source": [
    "df_corona.loc[df_corona.CountryCode == \"DEU\"].head()"
   ]
  },
  {
   "cell_type": "code",
   "execution_count": 312,
   "metadata": {},
   "outputs": [
    {
     "data": {
      "text/html": [
       "<div>\n",
       "<style scoped>\n",
       "    .dataframe tbody tr th:only-of-type {\n",
       "        vertical-align: middle;\n",
       "    }\n",
       "\n",
       "    .dataframe tbody tr th {\n",
       "        vertical-align: top;\n",
       "    }\n",
       "\n",
       "    .dataframe thead th {\n",
       "        text-align: right;\n",
       "    }\n",
       "</style>\n",
       "<table border=\"1\" class=\"dataframe\">\n",
       "  <thead>\n",
       "    <tr style=\"text-align: right;\">\n",
       "      <th></th>\n",
       "      <th>CountryName</th>\n",
       "      <th>CountryCode</th>\n",
       "      <th>Date</th>\n",
       "      <th>C1_School closing</th>\n",
       "      <th>C1_Flag</th>\n",
       "      <th>C2_Workplace closing</th>\n",
       "      <th>C2_Flag</th>\n",
       "      <th>C3_Cancel public events</th>\n",
       "      <th>C3_Flag</th>\n",
       "      <th>C4_Restrictions on gatherings</th>\n",
       "      <th>...</th>\n",
       "      <th>Political_participation</th>\n",
       "      <th>Political_culture</th>\n",
       "      <th>Civil_liberties</th>\n",
       "      <th>Regime_type</th>\n",
       "      <th>country_en</th>\n",
       "      <th>Code3_x</th>\n",
       "      <th>AgeCountryMean</th>\n",
       "      <th>PopTotalCountry</th>\n",
       "      <th>PopDensity_per_sq</th>\n",
       "      <th>Code3_y</th>\n",
       "    </tr>\n",
       "  </thead>\n",
       "  <tbody>\n",
       "    <tr>\n",
       "      <th>266</th>\n",
       "      <td>Afghanistan</td>\n",
       "      <td>AFG</td>\n",
       "      <td>2020-01-01</td>\n",
       "      <td>0.0</td>\n",
       "      <td>NaN</td>\n",
       "      <td>0.0</td>\n",
       "      <td>NaN</td>\n",
       "      <td>0.0</td>\n",
       "      <td>NaN</td>\n",
       "      <td>0.0</td>\n",
       "      <td>...</td>\n",
       "      <td>3.89</td>\n",
       "      <td>2.5</td>\n",
       "      <td>3.82</td>\n",
       "      <td>Autoritäres Regime</td>\n",
       "      <td>Afghanistan</td>\n",
       "      <td>AFG</td>\n",
       "      <td>22.061093</td>\n",
       "      <td>38928.341</td>\n",
       "      <td>59.627</td>\n",
       "      <td>AFG</td>\n",
       "    </tr>\n",
       "    <tr>\n",
       "      <th>267</th>\n",
       "      <td>Afghanistan</td>\n",
       "      <td>AFG</td>\n",
       "      <td>2020-01-02</td>\n",
       "      <td>0.0</td>\n",
       "      <td>NaN</td>\n",
       "      <td>0.0</td>\n",
       "      <td>NaN</td>\n",
       "      <td>0.0</td>\n",
       "      <td>NaN</td>\n",
       "      <td>0.0</td>\n",
       "      <td>...</td>\n",
       "      <td>3.89</td>\n",
       "      <td>2.5</td>\n",
       "      <td>3.82</td>\n",
       "      <td>Autoritäres Regime</td>\n",
       "      <td>Afghanistan</td>\n",
       "      <td>AFG</td>\n",
       "      <td>22.061093</td>\n",
       "      <td>38928.341</td>\n",
       "      <td>59.627</td>\n",
       "      <td>AFG</td>\n",
       "    </tr>\n",
       "    <tr>\n",
       "      <th>268</th>\n",
       "      <td>Afghanistan</td>\n",
       "      <td>AFG</td>\n",
       "      <td>2020-01-03</td>\n",
       "      <td>0.0</td>\n",
       "      <td>NaN</td>\n",
       "      <td>0.0</td>\n",
       "      <td>NaN</td>\n",
       "      <td>0.0</td>\n",
       "      <td>NaN</td>\n",
       "      <td>0.0</td>\n",
       "      <td>...</td>\n",
       "      <td>3.89</td>\n",
       "      <td>2.5</td>\n",
       "      <td>3.82</td>\n",
       "      <td>Autoritäres Regime</td>\n",
       "      <td>Afghanistan</td>\n",
       "      <td>AFG</td>\n",
       "      <td>22.061093</td>\n",
       "      <td>38928.341</td>\n",
       "      <td>59.627</td>\n",
       "      <td>AFG</td>\n",
       "    </tr>\n",
       "    <tr>\n",
       "      <th>269</th>\n",
       "      <td>Afghanistan</td>\n",
       "      <td>AFG</td>\n",
       "      <td>2020-01-04</td>\n",
       "      <td>0.0</td>\n",
       "      <td>NaN</td>\n",
       "      <td>0.0</td>\n",
       "      <td>NaN</td>\n",
       "      <td>0.0</td>\n",
       "      <td>NaN</td>\n",
       "      <td>0.0</td>\n",
       "      <td>...</td>\n",
       "      <td>3.89</td>\n",
       "      <td>2.5</td>\n",
       "      <td>3.82</td>\n",
       "      <td>Autoritäres Regime</td>\n",
       "      <td>Afghanistan</td>\n",
       "      <td>AFG</td>\n",
       "      <td>22.061093</td>\n",
       "      <td>38928.341</td>\n",
       "      <td>59.627</td>\n",
       "      <td>AFG</td>\n",
       "    </tr>\n",
       "    <tr>\n",
       "      <th>270</th>\n",
       "      <td>Afghanistan</td>\n",
       "      <td>AFG</td>\n",
       "      <td>2020-01-05</td>\n",
       "      <td>0.0</td>\n",
       "      <td>NaN</td>\n",
       "      <td>0.0</td>\n",
       "      <td>NaN</td>\n",
       "      <td>0.0</td>\n",
       "      <td>NaN</td>\n",
       "      <td>0.0</td>\n",
       "      <td>...</td>\n",
       "      <td>3.89</td>\n",
       "      <td>2.5</td>\n",
       "      <td>3.82</td>\n",
       "      <td>Autoritäres Regime</td>\n",
       "      <td>Afghanistan</td>\n",
       "      <td>AFG</td>\n",
       "      <td>22.061093</td>\n",
       "      <td>38928.341</td>\n",
       "      <td>59.627</td>\n",
       "      <td>AFG</td>\n",
       "    </tr>\n",
       "  </tbody>\n",
       "</table>\n",
       "<p>5 rows × 52 columns</p>\n",
       "</div>"
      ],
      "text/plain": [
       "     CountryName CountryCode       Date  C1_School closing  C1_Flag  \\\n",
       "266  Afghanistan         AFG 2020-01-01                0.0      NaN   \n",
       "267  Afghanistan         AFG 2020-01-02                0.0      NaN   \n",
       "268  Afghanistan         AFG 2020-01-03                0.0      NaN   \n",
       "269  Afghanistan         AFG 2020-01-04                0.0      NaN   \n",
       "270  Afghanistan         AFG 2020-01-05                0.0      NaN   \n",
       "\n",
       "     C2_Workplace closing  C2_Flag  C3_Cancel public events  C3_Flag  \\\n",
       "266                   0.0      NaN                      0.0      NaN   \n",
       "267                   0.0      NaN                      0.0      NaN   \n",
       "268                   0.0      NaN                      0.0      NaN   \n",
       "269                   0.0      NaN                      0.0      NaN   \n",
       "270                   0.0      NaN                      0.0      NaN   \n",
       "\n",
       "     C4_Restrictions on gatherings  ...  Political_participation  \\\n",
       "266                            0.0  ...                     3.89   \n",
       "267                            0.0  ...                     3.89   \n",
       "268                            0.0  ...                     3.89   \n",
       "269                            0.0  ...                     3.89   \n",
       "270                            0.0  ...                     3.89   \n",
       "\n",
       "     Political_culture  Civil_liberties         Regime_type   country_en  \\\n",
       "266                2.5             3.82  Autoritäres Regime  Afghanistan   \n",
       "267                2.5             3.82  Autoritäres Regime  Afghanistan   \n",
       "268                2.5             3.82  Autoritäres Regime  Afghanistan   \n",
       "269                2.5             3.82  Autoritäres Regime  Afghanistan   \n",
       "270                2.5             3.82  Autoritäres Regime  Afghanistan   \n",
       "\n",
       "     Code3_x  AgeCountryMean  PopTotalCountry  PopDensity_per_sq  Code3_y  \n",
       "266      AFG       22.061093        38928.341             59.627      AFG  \n",
       "267      AFG       22.061093        38928.341             59.627      AFG  \n",
       "268      AFG       22.061093        38928.341             59.627      AFG  \n",
       "269      AFG       22.061093        38928.341             59.627      AFG  \n",
       "270      AFG       22.061093        38928.341             59.627      AFG  \n",
       "\n",
       "[5 rows x 52 columns]"
      ]
     },
     "execution_count": 312,
     "metadata": {},
     "output_type": "execute_result"
    }
   ],
   "source": [
    "#Merging dataframe of Population Density \n",
    "df_corona= pd.merge(df_corona, df_POP_Density,left_on='CountryCode', right_on='Code3',how='outer')\n",
    "#df_corona.drop(axis=1, columns=['Code3_y','PopDensity_per_sq_y','PopDensity_per_sq_x'], inplace=True)\n",
    "df_corona.loc[df_corona.CountryCode == 'AFG'].head()"
   ]
  },
  {
   "cell_type": "code",
   "execution_count": 317,
   "metadata": {},
   "outputs": [],
   "source": [
    "#What:Adding new columns that puts death into perspective\n",
    "#Why: In order to secure comparability for the data\n",
    "df_corona['ConCases_Pop']=df_corona['ConfirmedCases']/df_corona['PopTotalCountry']\n",
    "df_corona['ConDeaths_Pop']=df_corona['ConfirmedDeaths']/df_corona['PopTotalCountry']\n",
    "df_corona['ConCases_perDay_Pop']=df_corona['ConfirmedCases_per_day']/df_corona['PopTotalCountry']\n",
    "df_corona['ConDeaths_perDay_Pop']=df_corona['ConfirmedDeaths_per_day']/df_corona['PopTotalCountry']"
   ]
  },
  {
   "cell_type": "code",
   "execution_count": 318,
   "metadata": {},
   "outputs": [
    {
     "name": "stdout",
     "output_type": "stream",
     "text": [
      "<class 'pandas.core.frame.DataFrame'>\n",
      "Int64Index: 47161 entries, 0 to 47160\n",
      "Data columns (total 56 columns):\n",
      " #   Column                                 Non-Null Count  Dtype         \n",
      "---  ------                                 --------------  -----         \n",
      " 0   CountryName                            47082 non-null  object        \n",
      " 1   CountryCode                            47082 non-null  object        \n",
      " 2   Date                                   47082 non-null  datetime64[ns]\n",
      " 3   C1_School closing                      47082 non-null  float64       \n",
      " 4   C1_Flag                                29917 non-null  float64       \n",
      " 5   C2_Workplace closing                   47082 non-null  float64       \n",
      " 6   C2_Flag                                28001 non-null  float64       \n",
      " 7   C3_Cancel public events                47082 non-null  float64       \n",
      " 8   C3_Flag                                31156 non-null  float64       \n",
      " 9   C4_Restrictions on gatherings          47082 non-null  float64       \n",
      " 10  C4_Flag                                29313 non-null  float64       \n",
      " 11  C5_Close public transport              47082 non-null  float64       \n",
      " 12  C5_Flag                                18480 non-null  float64       \n",
      " 13  C6_Stay at home requirements           47082 non-null  float64       \n",
      " 14  C6_Flag                                24328 non-null  float64       \n",
      " 15  C7_Restrictions on internal movement   47082 non-null  float64       \n",
      " 16  C7_Flag                                23432 non-null  float64       \n",
      " 17  C8_International travel controls       47082 non-null  float64       \n",
      " 18  E1_Income support                      47082 non-null  float64       \n",
      " 19  E1_Flag                                22644 non-null  float64       \n",
      " 20  E2_Debt/contract relief                47082 non-null  float64       \n",
      " 21  E3_Fiscal measures                     46775 non-null  float64       \n",
      " 22  E4_International support               46803 non-null  float64       \n",
      " 23  H1_Public information campaigns        47082 non-null  float64       \n",
      " 24  H1_Flag                                38845 non-null  float64       \n",
      " 25  H2_Testing policy                      47082 non-null  float64       \n",
      " 26  H3_Contact tracing                     47078 non-null  float64       \n",
      " 27  H4_Emergency investment in healthcare  46750 non-null  float64       \n",
      " 28  H5_Investment in vaccines              46773 non-null  float64       \n",
      " 29  H6_Facial Coverings                    46505 non-null  float64       \n",
      " 30  H6_Flag                                22908 non-null  float64       \n",
      " 31  ConfirmedCases                         47082 non-null  float64       \n",
      " 32  ConfirmedDeaths                        47082 non-null  float64       \n",
      " 33  StringencyIndex                        47082 non-null  float64       \n",
      " 34  GovernmentResponseIndex                47082 non-null  float64       \n",
      " 35  ContainmentHealthIndex                 47082 non-null  float64       \n",
      " 36  EconomicSupportIndex                   47082 non-null  float64       \n",
      " 37  ConfirmedCases_per_day                 47082 non-null  float64       \n",
      " 38  ConfirmedDeaths_per_day                47082 non-null  float64       \n",
      " 39  Dem_Score_Total                        36179 non-null  float64       \n",
      " 40  Electoral_process_pluralism            36179 non-null  float64       \n",
      " 41  Functioning_of_government              36179 non-null  float64       \n",
      " 42  Political_participation                36179 non-null  float64       \n",
      " 43  Political_culture                      36179 non-null  float64       \n",
      " 44  Civil_liberties                        36179 non-null  float64       \n",
      " 45  Regime_type                            36179 non-null  object        \n",
      " 46  country_en                             36179 non-null  object        \n",
      " 47  Code3_x                                43917 non-null  object        \n",
      " 48  AgeCountryMean                         42853 non-null  float64       \n",
      " 49  PopTotalCountry                        42853 non-null  float64       \n",
      " 50  PopDensity_per_sq                      44474 non-null  float64       \n",
      " 51  Code3_y                                44474 non-null  object        \n",
      " 52  ConCases_Pop                           42826 non-null  float64       \n",
      " 53  ConDeaths_Pop                          42826 non-null  float64       \n",
      " 54  ConCases_perDay_Pop                    42826 non-null  float64       \n",
      " 55  ConDeaths_perDay_Pop                   42826 non-null  float64       \n",
      "dtypes: datetime64[ns](1), float64(49), object(6)\n",
      "memory usage: 20.5+ MB\n"
     ]
    }
   ],
   "source": [
    "df_corona.info()"
   ]
  },
  {
   "cell_type": "code",
   "execution_count": null,
   "metadata": {},
   "outputs": [],
   "source": [
    "#"
   ]
  },
  {
   "cell_type": "code",
   "execution_count": null,
   "metadata": {},
   "outputs": [],
   "source": []
  },
  {
   "cell_type": "code",
   "execution_count": null,
   "metadata": {},
   "outputs": [],
   "source": []
  }
 ],
 "metadata": {
  "colab": {
   "collapsed_sections": [],
   "name": "Oxford2.ipynb",
   "provenance": []
  },
  "kernelspec": {
   "display_name": "Python 3",
   "language": "python",
   "name": "python3"
  },
  "language_info": {
   "codemirror_mode": {
    "name": "ipython",
    "version": 3
   },
   "file_extension": ".py",
   "mimetype": "text/x-python",
   "name": "python",
   "nbconvert_exporter": "python",
   "pygments_lexer": "ipython3",
   "version": "3.8.3"
  }
 },
 "nbformat": 4,
 "nbformat_minor": 1
}
